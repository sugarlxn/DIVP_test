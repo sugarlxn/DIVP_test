{
 "cells": [
  {
   "cell_type": "markdown",
   "metadata": {},
   "source": [
    "读取一幅灰度图像，不改变图像的灰度值，只通过修改颜色映射表，实现上面project02-01实验中\n",
    "的(a)、(b)、(c)的灰度图像灰度变换增强效果。"
   ]
  },
  {
   "cell_type": "code",
   "execution_count": null,
   "metadata": {},
   "outputs": [],
   "source": [
    "#!/usr/bin/python3 \n",
    "import cv2\n",
    "import numpy as np\n",
    "import matplotlib.pyplot as plt\n",
    "from PIL import Image"
   ]
  },
  {
   "cell_type": "code",
   "execution_count": null,
   "metadata": {},
   "outputs": [],
   "source": [
    "root_path = '/root/DIVP_project/'\n",
    "einstein_path = \"project02/proj02-images/einstein_orig.tif\"\n",
    "baboon_path = \"project02/proj02-images/baboon.jpg\""
   ]
  },
  {
   "cell_type": "code",
   "execution_count": null,
   "metadata": {},
   "outputs": [],
   "source": [
    "image_einstein = Image.open(root_path + einstein_path)\n",
    "print(type(image_einstein))\n",
    "print(image_einstein.size)\n",
    "print(image_einstein.mode)"
   ]
  },
  {
   "cell_type": "code",
   "execution_count": null,
   "metadata": {},
   "outputs": [],
   "source": [
    "# 通过修改image_einstein 的颜色映射表，实现灰度图像变换增强效果\n"
   ]
  },
  {
   "cell_type": "code",
   "execution_count": null,
   "metadata": {},
   "outputs": [],
   "source": []
  }
 ],
 "metadata": {
  "kernelspec": {
   "display_name": "Python 3",
   "language": "python",
   "name": "python3"
  },
  "language_info": {
   "name": "python",
   "version": "3.8.10"
  }
 },
 "nbformat": 4,
 "nbformat_minor": 2
}
