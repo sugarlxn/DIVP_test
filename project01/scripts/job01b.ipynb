{
 "cells": [
  {
   "cell_type": "code",
   "execution_count": 2,
   "metadata": {},
   "outputs": [],
   "source": [
    "#!/usr/bin/python3 \n",
    "import cv2\n",
    "import numpy as np\n",
    "import matplotlib.pyplot as plt\n",
    "from PIL import Image"
   ]
  },
  {
   "cell_type": "code",
   "execution_count": 3,
   "metadata": {},
   "outputs": [],
   "source": [
    "root_path = '/root/DIVP_project/'\n",
    "video_avi = \"project01/proj01-video/高速公路.AVI\"\n",
    "video_mov = \"project01/proj01-video/nasa_shuttle_m420p.mov\""
   ]
  },
  {
   "cell_type": "code",
   "execution_count": 4,
   "metadata": {},
   "outputs": [
    {
     "name": "stdout",
     "output_type": "stream",
     "text": [
      "fps:  30.00003000003\n",
      "width:  320\n",
      "height:  240\n",
      "format:  FMP4\n",
      "frame_count:  484\n",
      "duration:  16.1333172\n"
     ]
    }
   ],
   "source": [
    "# 使用cv2 读取视频\n",
    "cap = cv2.VideoCapture(root_path + video_avi)\n",
    "# 获取视频的帧率\n",
    "fps = cap.get(cv2.CAP_PROP_FPS)\n",
    "# 获取视频的宽度\n",
    "width = int(cap.get(cv2.CAP_PROP_FRAME_WIDTH))\n",
    "# 获取视频的高度\n",
    "height = int(cap.get(cv2.CAP_PROP_FRAME_HEIGHT))\n",
    "# 获取视频的编码格式\n",
    "fourcc = int(cap.get(cv2.CAP_PROP_FOURCC))\n",
    "# 获取视频的格式\n",
    "format = fourcc.to_bytes(4, byteorder='little').decode()\n",
    "# 获取视频的总帧数\n",
    "frame_count = int(cap.get(cv2.CAP_PROP_FRAME_COUNT))\n",
    "# 获取视频的时长\n",
    "duration = frame_count / fps\n",
    "\n",
    "print(\"fps: \", fps)\n",
    "print(\"width: \", width)\n",
    "print(\"height: \", height)\n",
    "print(\"format: \", format)\n",
    "print(\"frame_count: \", frame_count)\n",
    "print(\"duration: \", duration)"
   ]
  },
  {
   "cell_type": "code",
   "execution_count": 5,
   "metadata": {},
   "outputs": [
    {
     "name": "stdout",
     "output_type": "stream",
     "text": [
      "down\n"
     ]
    }
   ],
   "source": [
    "mode = 2\n",
    "window_name = \"video\"\n",
    "while cap.isOpened():\n",
    "    ret, frame = cap.read()\n",
    "    if not ret:\n",
    "        break\n",
    "    cv2.imshow(window_name, frame)\n",
    "    \n",
    "    if mode == 1:\n",
    "        # NOTE: 模式一 逐帧播放\n",
    "        key = cv2.waitKey(0) & 0xFF\n",
    "    elif mode == 2:\n",
    "        # NOTE: 模式二 相同时间间隔联系播放\n",
    "        key = cv2.waitKey(100) & 0xFF\n",
    "\n",
    "    if key == ord('q'):\n",
    "        break\n",
    "\n",
    "\n",
    "cv2.destroyAllWindows()\n",
    "cap.release()\n",
    "print(\"down\")"
   ]
  }
 ],
 "metadata": {
  "kernelspec": {
   "display_name": "Python 3",
   "language": "python",
   "name": "python3"
  },
  "language_info": {
   "codemirror_mode": {
    "name": "ipython",
    "version": 3
   },
   "file_extension": ".py",
   "mimetype": "text/x-python",
   "name": "python",
   "nbconvert_exporter": "python",
   "pygments_lexer": "ipython3",
   "version": "3.8.10"
  }
 },
 "nbformat": 4,
 "nbformat_minor": 2
}
